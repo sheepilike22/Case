{
 "cells": [
  {
   "cell_type": "code",
   "execution_count": 1,
   "metadata": {},
   "outputs": [],
   "source": [
    "import pandas as pd"
   ]
  },
  {
   "cell_type": "markdown",
   "metadata": {},
   "source": [
    "第一題"
   ]
  },
  {
   "cell_type": "code",
   "execution_count": 2,
   "metadata": {},
   "outputs": [
    {
     "data": {
      "text/html": [
       "<div>\n",
       "<style scoped>\n",
       "    .dataframe tbody tr th:only-of-type {\n",
       "        vertical-align: middle;\n",
       "    }\n",
       "\n",
       "    .dataframe tbody tr th {\n",
       "        vertical-align: top;\n",
       "    }\n",
       "\n",
       "    .dataframe thead th {\n",
       "        text-align: right;\n",
       "    }\n",
       "</style>\n",
       "<table border=\"1\" class=\"dataframe\">\n",
       "  <thead>\n",
       "    <tr style=\"text-align: right;\">\n",
       "      <th></th>\n",
       "      <th>年</th>\n",
       "      <th>週</th>\n",
       "      <th>就診類別</th>\n",
       "      <th>年齡別</th>\n",
       "      <th>縣市</th>\n",
       "      <th>腸病毒健保就診人次</th>\n",
       "      <th>健保就診總人次</th>\n",
       "    </tr>\n",
       "  </thead>\n",
       "  <tbody>\n",
       "    <tr>\n",
       "      <th>0</th>\n",
       "      <td>2008</td>\n",
       "      <td>14</td>\n",
       "      <td>住院</td>\n",
       "      <td>0-2</td>\n",
       "      <td>台中市</td>\n",
       "      <td>0</td>\n",
       "      <td>105</td>\n",
       "    </tr>\n",
       "    <tr>\n",
       "      <th>1</th>\n",
       "      <td>2008</td>\n",
       "      <td>14</td>\n",
       "      <td>住院</td>\n",
       "      <td>0-2</td>\n",
       "      <td>台北市</td>\n",
       "      <td>2</td>\n",
       "      <td>151</td>\n",
       "    </tr>\n",
       "    <tr>\n",
       "      <th>2</th>\n",
       "      <td>2008</td>\n",
       "      <td>14</td>\n",
       "      <td>住院</td>\n",
       "      <td>0-2</td>\n",
       "      <td>台東縣</td>\n",
       "      <td>0</td>\n",
       "      <td>14</td>\n",
       "    </tr>\n",
       "    <tr>\n",
       "      <th>3</th>\n",
       "      <td>2008</td>\n",
       "      <td>14</td>\n",
       "      <td>住院</td>\n",
       "      <td>0-2</td>\n",
       "      <td>台南市</td>\n",
       "      <td>0</td>\n",
       "      <td>20</td>\n",
       "    </tr>\n",
       "    <tr>\n",
       "      <th>4</th>\n",
       "      <td>2008</td>\n",
       "      <td>14</td>\n",
       "      <td>住院</td>\n",
       "      <td>0-2</td>\n",
       "      <td>宜蘭縣</td>\n",
       "      <td>0</td>\n",
       "      <td>44</td>\n",
       "    </tr>\n",
       "  </tbody>\n",
       "</table>\n",
       "</div>"
      ],
      "text/plain": [
       "      年   週 就診類別  年齡別   縣市  腸病毒健保就診人次  健保就診總人次\n",
       "0  2008  14   住院  0-2  台中市          0      105\n",
       "1  2008  14   住院  0-2  台北市          2      151\n",
       "2  2008  14   住院  0-2  台東縣          0       14\n",
       "3  2008  14   住院  0-2  台南市          0       20\n",
       "4  2008  14   住院  0-2  宜蘭縣          0       44"
      ]
     },
     "execution_count": 2,
     "metadata": {},
     "output_type": "execute_result"
    }
   ],
   "source": [
    "df = pd.read_csv('C:\\\\Users\\\\sheep\\\\Downloads\\\\NHI_EnteroviralInfection.csv')\n",
    "df.head()"
   ]
  },
  {
   "cell_type": "code",
   "execution_count": 3,
   "metadata": {},
   "outputs": [
    {
     "data": {
      "text/html": [
       "<div>\n",
       "<style scoped>\n",
       "    .dataframe tbody tr th:only-of-type {\n",
       "        vertical-align: middle;\n",
       "    }\n",
       "\n",
       "    .dataframe tbody tr th {\n",
       "        vertical-align: top;\n",
       "    }\n",
       "\n",
       "    .dataframe thead th {\n",
       "        text-align: right;\n",
       "    }\n",
       "</style>\n",
       "<table border=\"1\" class=\"dataframe\">\n",
       "  <thead>\n",
       "    <tr style=\"text-align: right;\">\n",
       "      <th></th>\n",
       "      <th>年</th>\n",
       "      <th>週</th>\n",
       "      <th>腸病毒健保就診人次</th>\n",
       "      <th>健保就診總人次</th>\n",
       "    </tr>\n",
       "  </thead>\n",
       "  <tbody>\n",
       "    <tr>\n",
       "      <th>count</th>\n",
       "      <td>145909.000000</td>\n",
       "      <td>145909.000000</td>\n",
       "      <td>145909.000000</td>\n",
       "      <td>145909.000000</td>\n",
       "    </tr>\n",
       "    <tr>\n",
       "      <th>mean</th>\n",
       "      <td>2014.331474</td>\n",
       "      <td>26.544003</td>\n",
       "      <td>42.471540</td>\n",
       "      <td>22787.004928</td>\n",
       "    </tr>\n",
       "    <tr>\n",
       "      <th>std</th>\n",
       "      <td>3.831844</td>\n",
       "      <td>15.020681</td>\n",
       "      <td>121.151221</td>\n",
       "      <td>82773.816438</td>\n",
       "    </tr>\n",
       "    <tr>\n",
       "      <th>min</th>\n",
       "      <td>2008.000000</td>\n",
       "      <td>1.000000</td>\n",
       "      <td>0.000000</td>\n",
       "      <td>0.000000</td>\n",
       "    </tr>\n",
       "    <tr>\n",
       "      <th>25%</th>\n",
       "      <td>2011.000000</td>\n",
       "      <td>14.000000</td>\n",
       "      <td>0.000000</td>\n",
       "      <td>28.000000</td>\n",
       "    </tr>\n",
       "    <tr>\n",
       "      <th>50%</th>\n",
       "      <td>2014.000000</td>\n",
       "      <td>26.000000</td>\n",
       "      <td>3.000000</td>\n",
       "      <td>984.000000</td>\n",
       "    </tr>\n",
       "    <tr>\n",
       "      <th>75%</th>\n",
       "      <td>2018.000000</td>\n",
       "      <td>40.000000</td>\n",
       "      <td>27.000000</td>\n",
       "      <td>6995.000000</td>\n",
       "    </tr>\n",
       "    <tr>\n",
       "      <th>max</th>\n",
       "      <td>2021.000000</td>\n",
       "      <td>53.000000</td>\n",
       "      <td>2925.000000</td>\n",
       "      <td>898783.000000</td>\n",
       "    </tr>\n",
       "  </tbody>\n",
       "</table>\n",
       "</div>"
      ],
      "text/plain": [
       "                   年              週      腸病毒健保就診人次        健保就診總人次\n",
       "count  145909.000000  145909.000000  145909.000000  145909.000000\n",
       "mean     2014.331474      26.544003      42.471540   22787.004928\n",
       "std         3.831844      15.020681     121.151221   82773.816438\n",
       "min      2008.000000       1.000000       0.000000       0.000000\n",
       "25%      2011.000000      14.000000       0.000000      28.000000\n",
       "50%      2014.000000      26.000000       3.000000     984.000000\n",
       "75%      2018.000000      40.000000      27.000000    6995.000000\n",
       "max      2021.000000      53.000000    2925.000000  898783.000000"
      ]
     },
     "execution_count": 3,
     "metadata": {},
     "output_type": "execute_result"
    }
   ],
   "source": [
    "df.describe()"
   ]
  },
  {
   "cell_type": "code",
   "execution_count": 7,
   "metadata": {},
   "outputs": [
    {
     "data": {
      "text/html": [
       "<div>\n",
       "<style scoped>\n",
       "    .dataframe tbody tr th:only-of-type {\n",
       "        vertical-align: middle;\n",
       "    }\n",
       "\n",
       "    .dataframe tbody tr th {\n",
       "        vertical-align: top;\n",
       "    }\n",
       "\n",
       "    .dataframe thead th {\n",
       "        text-align: right;\n",
       "    }\n",
       "</style>\n",
       "<table border=\"1\" class=\"dataframe\">\n",
       "  <thead>\n",
       "    <tr style=\"text-align: right;\">\n",
       "      <th></th>\n",
       "      <th>縣市</th>\n",
       "      <th>腸病毒健保就診人次</th>\n",
       "    </tr>\n",
       "  </thead>\n",
       "  <tbody>\n",
       "    <tr>\n",
       "      <th>129938</th>\n",
       "      <td>台中市</td>\n",
       "      <td>4</td>\n",
       "    </tr>\n",
       "    <tr>\n",
       "      <th>129939</th>\n",
       "      <td>台北市</td>\n",
       "      <td>8</td>\n",
       "    </tr>\n",
       "    <tr>\n",
       "      <th>129940</th>\n",
       "      <td>台東縣</td>\n",
       "      <td>0</td>\n",
       "    </tr>\n",
       "    <tr>\n",
       "      <th>129941</th>\n",
       "      <td>台南市</td>\n",
       "      <td>0</td>\n",
       "    </tr>\n",
       "    <tr>\n",
       "      <th>129942</th>\n",
       "      <td>宜蘭縣</td>\n",
       "      <td>7</td>\n",
       "    </tr>\n",
       "  </tbody>\n",
       "</table>\n",
       "</div>"
      ],
      "text/plain": [
       "         縣市  腸病毒健保就診人次\n",
       "129938  台中市          4\n",
       "129939  台北市          8\n",
       "129940  台東縣          0\n",
       "129941  台南市          0\n",
       "129942  宜蘭縣          7"
      ]
     },
     "execution_count": 7,
     "metadata": {},
     "output_type": "execute_result"
    }
   ],
   "source": [
    "#篩選資料\n",
    "df1=df[df['年']==2020][['縣市','腸病毒健保就診人次']]\n",
    "df1.head()"
   ]
  },
  {
   "cell_type": "code",
   "execution_count": 9,
   "metadata": {},
   "outputs": [
    {
     "name": "stdout",
     "output_type": "stream",
     "text": [
      "2020年腸病毒全國就診人數 137107 人\n"
     ]
    }
   ],
   "source": [
    "#進行總計\n",
    "df2=df1.sum()\n",
    "print('2020年腸病毒全國就診人數',df2['腸病毒健保就診人次'],'人')"
   ]
  },
  {
   "cell_type": "markdown",
   "metadata": {},
   "source": [
    "第二題"
   ]
  },
  {
   "cell_type": "code",
   "execution_count": 36,
   "metadata": {},
   "outputs": [],
   "source": [
    "from matplotlib.font_manager import FontProperties\n",
    "import matplotlib.pyplot as plt\n",
    "\n",
    "plt.rcParams['font.sans-serif'] = ['Microsoft JhengHei'] \n",
    "plt.rcParams['axes.unicode_minus'] = False"
   ]
  },
  {
   "cell_type": "code",
   "execution_count": 38,
   "metadata": {},
   "outputs": [
    {
     "data": {
      "text/html": [
       "<div>\n",
       "<style scoped>\n",
       "    .dataframe tbody tr th:only-of-type {\n",
       "        vertical-align: middle;\n",
       "    }\n",
       "\n",
       "    .dataframe tbody tr th {\n",
       "        vertical-align: top;\n",
       "    }\n",
       "\n",
       "    .dataframe thead th {\n",
       "        text-align: right;\n",
       "    }\n",
       "</style>\n",
       "<table border=\"1\" class=\"dataframe\">\n",
       "  <thead>\n",
       "    <tr style=\"text-align: right;\">\n",
       "      <th></th>\n",
       "      <th>腸病毒健保就診人次</th>\n",
       "    </tr>\n",
       "    <tr>\n",
       "      <th>縣市</th>\n",
       "      <th></th>\n",
       "    </tr>\n",
       "  </thead>\n",
       "  <tbody>\n",
       "    <tr>\n",
       "      <th>南投縣</th>\n",
       "      <td>3059</td>\n",
       "    </tr>\n",
       "    <tr>\n",
       "      <th>台中市</th>\n",
       "      <td>23062</td>\n",
       "    </tr>\n",
       "    <tr>\n",
       "      <th>台北市</th>\n",
       "      <td>11779</td>\n",
       "    </tr>\n",
       "    <tr>\n",
       "      <th>台南市</th>\n",
       "      <td>6558</td>\n",
       "    </tr>\n",
       "    <tr>\n",
       "      <th>台東縣</th>\n",
       "      <td>1217</td>\n",
       "    </tr>\n",
       "    <tr>\n",
       "      <th>嘉義市</th>\n",
       "      <td>2425</td>\n",
       "    </tr>\n",
       "    <tr>\n",
       "      <th>嘉義縣</th>\n",
       "      <td>1879</td>\n",
       "    </tr>\n",
       "    <tr>\n",
       "      <th>基隆市</th>\n",
       "      <td>1924</td>\n",
       "    </tr>\n",
       "    <tr>\n",
       "      <th>宜蘭縣</th>\n",
       "      <td>4922</td>\n",
       "    </tr>\n",
       "    <tr>\n",
       "      <th>屏東縣</th>\n",
       "      <td>3446</td>\n",
       "    </tr>\n",
       "    <tr>\n",
       "      <th>彰化縣</th>\n",
       "      <td>8461</td>\n",
       "    </tr>\n",
       "    <tr>\n",
       "      <th>新北市</th>\n",
       "      <td>23000</td>\n",
       "    </tr>\n",
       "    <tr>\n",
       "      <th>新竹市</th>\n",
       "      <td>3073</td>\n",
       "    </tr>\n",
       "    <tr>\n",
       "      <th>新竹縣</th>\n",
       "      <td>3350</td>\n",
       "    </tr>\n",
       "    <tr>\n",
       "      <th>桃園市</th>\n",
       "      <td>17268</td>\n",
       "    </tr>\n",
       "    <tr>\n",
       "      <th>澎湖縣</th>\n",
       "      <td>185</td>\n",
       "    </tr>\n",
       "    <tr>\n",
       "      <th>花蓮縣</th>\n",
       "      <td>2342</td>\n",
       "    </tr>\n",
       "    <tr>\n",
       "      <th>苗栗縣</th>\n",
       "      <td>2756</td>\n",
       "    </tr>\n",
       "    <tr>\n",
       "      <th>連江縣</th>\n",
       "      <td>11</td>\n",
       "    </tr>\n",
       "    <tr>\n",
       "      <th>金門縣</th>\n",
       "      <td>425</td>\n",
       "    </tr>\n",
       "    <tr>\n",
       "      <th>雲林縣</th>\n",
       "      <td>5176</td>\n",
       "    </tr>\n",
       "    <tr>\n",
       "      <th>高雄市</th>\n",
       "      <td>10789</td>\n",
       "    </tr>\n",
       "  </tbody>\n",
       "</table>\n",
       "</div>"
      ],
      "text/plain": [
       "     腸病毒健保就診人次\n",
       "縣市            \n",
       "南投縣       3059\n",
       "台中市      23062\n",
       "台北市      11779\n",
       "台南市       6558\n",
       "台東縣       1217\n",
       "嘉義市       2425\n",
       "嘉義縣       1879\n",
       "基隆市       1924\n",
       "宜蘭縣       4922\n",
       "屏東縣       3446\n",
       "彰化縣       8461\n",
       "新北市      23000\n",
       "新竹市       3073\n",
       "新竹縣       3350\n",
       "桃園市      17268\n",
       "澎湖縣        185\n",
       "花蓮縣       2342\n",
       "苗栗縣       2756\n",
       "連江縣         11\n",
       "金門縣        425\n",
       "雲林縣       5176\n",
       "高雄市      10789"
      ]
     },
     "execution_count": 38,
     "metadata": {},
     "output_type": "execute_result"
    }
   ],
   "source": [
    "df3 = df1.groupby([\"縣市\"]).sum()\n",
    "df3"
   ]
  },
  {
   "cell_type": "code",
   "execution_count": 39,
   "metadata": {},
   "outputs": [
    {
     "data": {
      "text/plain": [
       "Index(['南投縣', '台中市', '台北市', '台南市', '台東縣', '嘉義市', '嘉義縣', '基隆市', '宜蘭縣', '屏東縣',\n",
       "       '彰化縣', '新北市', '新竹市', '新竹縣', '桃園市', '澎湖縣', '花蓮縣', '苗栗縣', '連江縣', '金門縣',\n",
       "       '雲林縣', '高雄市'],\n",
       "      dtype='object', name='縣市')"
      ]
     },
     "execution_count": 39,
     "metadata": {},
     "output_type": "execute_result"
    }
   ],
   "source": [
    "df3.index"
   ]
  },
  {
   "cell_type": "code",
   "execution_count": 40,
   "metadata": {},
   "outputs": [
    {
     "data": {
      "text/plain": [
       "Index(['腸病毒健保就診人次'], dtype='object')"
      ]
     },
     "execution_count": 40,
     "metadata": {},
     "output_type": "execute_result"
    }
   ],
   "source": [
    "df3.columns"
   ]
  },
  {
   "cell_type": "code",
   "execution_count": 41,
   "metadata": {},
   "outputs": [
    {
     "data": {
      "image/png": "[encoded data removed]",
      "text/plain": [
       "<Figure size 432x288 with 1 Axes>"
      ]
     },
     "metadata": {
      "needs_background": "light"
     },
     "output_type": "display_data"
    }
   ],
   "source": [
    "x= df3.index\n",
    "y= df3['腸病毒健保就診人次']\n",
    "\n",
    "fig = plt.figure()\n",
    "plt.bar(x,y)\n",
    "\n",
    "plt.title(\"2020年腸病毒各縣市就診人數\",fontsize=15)\n",
    "plt.xlabel(\"縣市\",fontsize=13)\n",
    "plt.ylabel(\"腸病毒健保就診人次\",fontsize=13)\n",
    "fig.autofmt_xdate()\n",
    "plt.show()"
   ]
  },
  {
   "cell_type": "markdown",
   "metadata": {},
   "source": [
    "第三題"
   ]
  },
  {
   "cell_type": "code",
   "execution_count": 42,
   "metadata": {},
   "outputs": [
    {
     "data": {
      "text/html": [
       "<div>\n",
       "<style scoped>\n",
       "    .dataframe tbody tr th:only-of-type {\n",
       "        vertical-align: middle;\n",
       "    }\n",
       "\n",
       "    .dataframe tbody tr th {\n",
       "        vertical-align: top;\n",
       "    }\n",
       "\n",
       "    .dataframe thead th {\n",
       "        text-align: right;\n",
       "    }\n",
       "</style>\n",
       "<table border=\"1\" class=\"dataframe\">\n",
       "  <thead>\n",
       "    <tr style=\"text-align: right;\">\n",
       "      <th></th>\n",
       "      <th></th>\n",
       "      <th>腸病毒健保就診人次</th>\n",
       "    </tr>\n",
       "    <tr>\n",
       "      <th>縣市</th>\n",
       "      <th>年齡別</th>\n",
       "      <th></th>\n",
       "    </tr>\n",
       "  </thead>\n",
       "  <tbody>\n",
       "    <tr>\n",
       "      <th rowspan=\"5\" valign=\"top\">南投縣</th>\n",
       "      <th>0-2</th>\n",
       "      <td>1214</td>\n",
       "    </tr>\n",
       "    <tr>\n",
       "      <th>10-14</th>\n",
       "      <td>123</td>\n",
       "    </tr>\n",
       "    <tr>\n",
       "      <th>15+</th>\n",
       "      <td>230</td>\n",
       "    </tr>\n",
       "    <tr>\n",
       "      <th>3-4</th>\n",
       "      <td>799</td>\n",
       "    </tr>\n",
       "    <tr>\n",
       "      <th>5-9</th>\n",
       "      <td>693</td>\n",
       "    </tr>\n",
       "    <tr>\n",
       "      <th>...</th>\n",
       "      <th>...</th>\n",
       "      <td>...</td>\n",
       "    </tr>\n",
       "    <tr>\n",
       "      <th rowspan=\"5\" valign=\"top\">高雄市</th>\n",
       "      <th>0-2</th>\n",
       "      <td>3545</td>\n",
       "    </tr>\n",
       "    <tr>\n",
       "      <th>10-14</th>\n",
       "      <td>528</td>\n",
       "    </tr>\n",
       "    <tr>\n",
       "      <th>15+</th>\n",
       "      <td>1647</td>\n",
       "    </tr>\n",
       "    <tr>\n",
       "      <th>3-4</th>\n",
       "      <td>2405</td>\n",
       "    </tr>\n",
       "    <tr>\n",
       "      <th>5-9</th>\n",
       "      <td>2664</td>\n",
       "    </tr>\n",
       "  </tbody>\n",
       "</table>\n",
       "<p>110 rows × 1 columns</p>\n",
       "</div>"
      ],
      "text/plain": [
       "           腸病毒健保就診人次\n",
       "縣市  年齡別             \n",
       "南投縣 0-2         1214\n",
       "    10-14        123\n",
       "    15+          230\n",
       "    3-4          799\n",
       "    5-9          693\n",
       "...              ...\n",
       "高雄市 0-2         3545\n",
       "    10-14        528\n",
       "    15+         1647\n",
       "    3-4         2405\n",
       "    5-9         2664\n",
       "\n",
       "[110 rows x 1 columns]"
      ]
     },
     "execution_count": 42,
     "metadata": {},
     "output_type": "execute_result"
    }
   ],
   "source": [
    "df4 = df[df['年']==2020][['年齡別','縣市','腸病毒健保就診人次']].groupby([\"縣市\",'年齡別']).sum()\n",
    "df4"
   ]
  },
  {
   "cell_type": "code",
   "execution_count": 43,
   "metadata": {},
   "outputs": [
    {
     "data": {
      "text/plain": [
       "MultiIndex([('南投縣',   '0-2'),\n",
       "            ('南投縣', '10-14'),\n",
       "            ('南投縣',   '15+'),\n",
       "            ('南投縣',   '3-4'),\n",
       "            ('南投縣',   '5-9'),\n",
       "            ('台中市',   '0-2'),\n",
       "            ('台中市', '10-14'),\n",
       "            ('台中市',   '15+'),\n",
       "            ('台中市',   '3-4'),\n",
       "            ('台中市',   '5-9'),\n",
       "            ...\n",
       "            ('雲林縣',   '0-2'),\n",
       "            ('雲林縣', '10-14'),\n",
       "            ('雲林縣',   '15+'),\n",
       "            ('雲林縣',   '3-4'),\n",
       "            ('雲林縣',   '5-9'),\n",
       "            ('高雄市',   '0-2'),\n",
       "            ('高雄市', '10-14'),\n",
       "            ('高雄市',   '15+'),\n",
       "            ('高雄市',   '3-4'),\n",
       "            ('高雄市',   '5-9')],\n",
       "           names=['縣市', '年齡別'], length=110)"
      ]
     },
     "execution_count": 43,
     "metadata": {},
     "output_type": "execute_result"
    }
   ],
   "source": [
    "df4.index"
   ]
  },
  {
   "cell_type": "code",
   "execution_count": 44,
   "metadata": {},
   "outputs": [
    {
     "data": {
      "text/plain": [
       "Index(['腸病毒健保就診人次'], dtype='object')"
      ]
     },
     "execution_count": 44,
     "metadata": {},
     "output_type": "execute_result"
    }
   ],
   "source": [
    "df4.columns"
   ]
  },
  {
   "cell_type": "code",
   "execution_count": 46,
   "metadata": {},
   "outputs": [
    {
     "data": {
      "text/html": [
       "<div>\n",
       "<style scoped>\n",
       "    .dataframe tbody tr th:only-of-type {\n",
       "        vertical-align: middle;\n",
       "    }\n",
       "\n",
       "    .dataframe tbody tr th {\n",
       "        vertical-align: top;\n",
       "    }\n",
       "\n",
       "    .dataframe thead th {\n",
       "        text-align: right;\n",
       "    }\n",
       "</style>\n",
       "<table border=\"1\" class=\"dataframe\">\n",
       "  <thead>\n",
       "    <tr style=\"text-align: right;\">\n",
       "      <th></th>\n",
       "      <th>縣市</th>\n",
       "      <th>年齡別</th>\n",
       "      <th>腸病毒健保就診人次</th>\n",
       "    </tr>\n",
       "  </thead>\n",
       "  <tbody>\n",
       "    <tr>\n",
       "      <th>0</th>\n",
       "      <td>南投縣</td>\n",
       "      <td>0-2</td>\n",
       "      <td>1214</td>\n",
       "    </tr>\n",
       "    <tr>\n",
       "      <th>1</th>\n",
       "      <td>南投縣</td>\n",
       "      <td>10-14</td>\n",
       "      <td>123</td>\n",
       "    </tr>\n",
       "    <tr>\n",
       "      <th>2</th>\n",
       "      <td>南投縣</td>\n",
       "      <td>15+</td>\n",
       "      <td>230</td>\n",
       "    </tr>\n",
       "    <tr>\n",
       "      <th>3</th>\n",
       "      <td>南投縣</td>\n",
       "      <td>3-4</td>\n",
       "      <td>799</td>\n",
       "    </tr>\n",
       "    <tr>\n",
       "      <th>4</th>\n",
       "      <td>南投縣</td>\n",
       "      <td>5-9</td>\n",
       "      <td>693</td>\n",
       "    </tr>\n",
       "    <tr>\n",
       "      <th>...</th>\n",
       "      <td>...</td>\n",
       "      <td>...</td>\n",
       "      <td>...</td>\n",
       "    </tr>\n",
       "    <tr>\n",
       "      <th>105</th>\n",
       "      <td>高雄市</td>\n",
       "      <td>0-2</td>\n",
       "      <td>3545</td>\n",
       "    </tr>\n",
       "    <tr>\n",
       "      <th>106</th>\n",
       "      <td>高雄市</td>\n",
       "      <td>10-14</td>\n",
       "      <td>528</td>\n",
       "    </tr>\n",
       "    <tr>\n",
       "      <th>107</th>\n",
       "      <td>高雄市</td>\n",
       "      <td>15+</td>\n",
       "      <td>1647</td>\n",
       "    </tr>\n",
       "    <tr>\n",
       "      <th>108</th>\n",
       "      <td>高雄市</td>\n",
       "      <td>3-4</td>\n",
       "      <td>2405</td>\n",
       "    </tr>\n",
       "    <tr>\n",
       "      <th>109</th>\n",
       "      <td>高雄市</td>\n",
       "      <td>5-9</td>\n",
       "      <td>2664</td>\n",
       "    </tr>\n",
       "  </tbody>\n",
       "</table>\n",
       "<p>110 rows × 3 columns</p>\n",
       "</div>"
      ],
      "text/plain": [
       "      縣市    年齡別  腸病毒健保就診人次\n",
       "0    南投縣    0-2       1214\n",
       "1    南投縣  10-14        123\n",
       "2    南投縣    15+        230\n",
       "3    南投縣    3-4        799\n",
       "4    南投縣    5-9        693\n",
       "..   ...    ...        ...\n",
       "105  高雄市    0-2       3545\n",
       "106  高雄市  10-14        528\n",
       "107  高雄市    15+       1647\n",
       "108  高雄市    3-4       2405\n",
       "109  高雄市    5-9       2664\n",
       "\n",
       "[110 rows x 3 columns]"
      ]
     },
     "execution_count": 46,
     "metadata": {},
     "output_type": "execute_result"
    }
   ],
   "source": [
    "df5 = df4.reset_index()\n",
    "df5"
   ]
  },
  {
   "cell_type": "code",
   "execution_count": 47,
   "metadata": {},
   "outputs": [
    {
     "data": {
      "text/plain": [
       "array(['0-2', '10-14', '15+', '3-4', '5-9'], dtype=object)"
      ]
     },
     "execution_count": 47,
     "metadata": {},
     "output_type": "execute_result"
    }
   ],
   "source": [
    "df5['年齡別'].unique()"
   ]
  },
  {
   "cell_type": "code",
   "execution_count": 50,
   "metadata": {},
   "outputs": [],
   "source": [
    "# import numpy as np\n",
    "# import matplotlib.pyplot as plt\n",
    "\n",
    "# data1=df5['0-2']\n",
    "# data2=df5['10-14']\n",
    "# data3=df5['15+']\n",
    "# data4=df5['3-4']\n",
    "# data5=df5['5-9']\n",
    "\n",
    "# x1 =df5['縣市']\n",
    "\n",
    "# plt.figure(figsize=(9,7))\n",
    "# plt.bar(x1,data1,color=\"green\",label=\"0-2\")\n",
    "# plt.bar(x1,data2,color=\"yellow\",label=\"10-14\")\n",
    "# plt.bar(x1,data3,color=\"red\",label=\"15+\")\n",
    "# plt.bar(x1,data4,color=\"blue\",label=\"3-4\")\n",
    "# plt.bar(x1,data5,color=\"pink\",label=\"5-9\")\n",
    "\n",
    "# plt.legend(loc=\"lower left\",bbox_to_anchor=(0.8,1.0))\n",
    "# plt.show()"
   ]
  },
  {
   "cell_type": "code",
   "execution_count": 54,
   "metadata": {},
   "outputs": [
    {
     "data": {
      "text/plain": [
       "0      南投縣\n",
       "1      南投縣\n",
       "2      南投縣\n",
       "3      南投縣\n",
       "4      南投縣\n",
       "      ... \n",
       "105    高雄市\n",
       "106    高雄市\n",
       "107    高雄市\n",
       "108    高雄市\n",
       "109    高雄市\n",
       "Name: 縣市, Length: 110, dtype: object"
      ]
     },
     "execution_count": 54,
     "metadata": {},
     "output_type": "execute_result"
    }
   ],
   "source": [
    "df5['縣市']"
   ]
  },
  {
   "cell_type": "code",
   "execution_count": 58,
   "metadata": {},
   "outputs": [
    {
     "data": {
      "text/plain": [
       "46003"
      ]
     },
     "execution_count": 58,
     "metadata": {},
     "output_type": "execute_result"
    }
   ],
   "source": [
    "df5[df5['年齡別']=='0-2']['腸病毒健保就診人次'].sum()"
   ]
  },
  {
   "cell_type": "code",
   "execution_count": 65,
   "metadata": {},
   "outputs": [
    {
     "data": {
      "text/plain": [
       "南投縣    1214\n",
       "台中市    8011\n",
       "台北市    3814\n",
       "台南市    1742\n",
       "台東縣     473\n",
       "嘉義市     715\n",
       "嘉義縣     463\n",
       "基隆市     695\n",
       "宜蘭縣    1412\n",
       "屏東縣    1273\n",
       "彰化縣    2767\n",
       "新北市    8591\n",
       "新竹市    1177\n",
       "新竹縣    1169\n",
       "桃園市    5492\n",
       "澎湖縣      63\n",
       "花蓮縣     781\n",
       "苗栗縣     885\n",
       "連江縣       1\n",
       "金門縣     147\n",
       "雲林縣    1573\n",
       "高雄市    3545\n",
       "Name: 腸病毒健保就診人次, dtype: int64"
      ]
     },
     "execution_count": 65,
     "metadata": {},
     "output_type": "execute_result"
    }
   ],
   "source": [
    "df5[df5['年齡別']=='0-2'].groupby(df5['縣市'].unique())['腸病毒健保就診人次'].sum()"
   ]
  },
  {
   "cell_type": "code",
   "execution_count": 66,
   "metadata": {},
   "outputs": [
    {
     "data": {
      "text/plain": [
       "<Figure size 432x288 with 0 Axes>"
      ]
     },
     "metadata": {},
     "output_type": "display_data"
    },
    {
     "data": {
      "image/png": "[encoded data removed]",
      "text/plain": [
       "<Figure size 432x288 with 1 Axes>"
      ]
     },
     "metadata": {
      "needs_background": "light"
     },
     "output_type": "display_data"
    }
   ],
   "source": [
    "import matplotlib.pyplot as plt\n",
    "\n",
    "\n",
    "labels = df5['縣市'].unique()\n",
    "data1 = df5[df5['年齡別']=='0-2'].groupby(df5['縣市'].unique())['腸病毒健保就診人次'].sum()\n",
    "data2 = df5[df5['年齡別']=='10-14'].groupby(df5['縣市'].unique())['腸病毒健保就診人次'].sum()\n",
    "data3 = df5[df5['年齡別']=='15+'].groupby(df5['縣市'].unique())['腸病毒健保就診人次'].sum()\n",
    "data4 = df5[df5['年齡別']=='3-4'].groupby(df5['縣市'].unique())['腸病毒健保就診人次'].sum()\n",
    "data5 = df5[df5['年齡別']=='5-9'].groupby(df5['縣市'].unique())['腸病毒健保就診人次'].sum()\n",
    "\n",
    "fig = plt.figure()\n",
    "fig, ax = plt.subplots()\n",
    "\n",
    "ax.bar(labels, data1, label='0-2')\n",
    "ax.bar(labels, data2, label='10-14')\n",
    "ax.bar(labels, data3, label='15+')\n",
    "ax.bar(labels, data4, label='3-4')\n",
    "ax.bar(labels, data5, label='5-9')\n",
    "\n",
    "ax.set_ylabel('腸病毒健保就診人次')\n",
    "ax.set_title('2020年腸病毒健保就診人數依[縣市]及[年齡別]進行統計分析')\n",
    "ax.legend()\n",
    "\n",
    "fig.autofmt_xdate()\n",
    "plt.show()"
   ]
  }
 ],
 "metadata": {
  "kernelspec": {
   "display_name": "Python 3",
   "language": "python",
   "name": "python3"
  },
  "language_info": {
   "codemirror_mode": {
    "name": "ipython",
    "version": 3
   },
   "file_extension": ".py",
   "mimetype": "text/x-python",
   "name": "python",
   "nbconvert_exporter": "python",
   "pygments_lexer": "ipython3",
   "version": "3.7.6"
  }
 },
 "nbformat": 4,
 "nbformat_minor": 4
}
